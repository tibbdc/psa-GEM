{
 "cells": [
  {
   "cell_type": "code",
   "execution_count": 1,
   "metadata": {},
   "outputs": [],
   "source": [
    "import cobra"
   ]
  },
  {
   "cell_type": "code",
   "execution_count": 2,
   "metadata": {},
   "outputs": [],
   "source": [
    "# Load a model from an SBML file\n",
    "model=cobra.io.read_sbml_model('../model/iQY1018.xml')"
   ]
  },
  {
   "cell_type": "code",
   "execution_count": 3,
   "metadata": {},
   "outputs": [
    {
     "data": {
      "text/html": [
       "\n",
       "        <table>\n",
       "            <tr>\n",
       "                <td><strong>Name</strong></td>\n",
       "                <td>iQY1018</td>\n",
       "            </tr><tr>\n",
       "                <td><strong>Memory address</strong></td>\n",
       "                <td>7f74bc025af0</td>\n",
       "            </tr><tr>\n",
       "                <td><strong>Number of metabolites</strong></td>\n",
       "                <td>1203</td>\n",
       "            </tr><tr>\n",
       "                <td><strong>Number of reactions</strong></td>\n",
       "                <td>1420</td>\n",
       "            </tr><tr>\n",
       "                <td><strong>Number of genes</strong></td>\n",
       "                <td>1018</td>\n",
       "            </tr><tr>\n",
       "                <td><strong>Number of groups</strong></td>\n",
       "                <td>0</td>\n",
       "            </tr><tr>\n",
       "                <td><strong>Objective expression</strong></td>\n",
       "                <td>1.0*biomass0 - 1.0*biomass0_reverse_9c18d</td>\n",
       "            </tr><tr>\n",
       "                <td><strong>Compartments</strong></td>\n",
       "                <td>c0, e0</td>\n",
       "            </tr>\n",
       "          </table>"
      ],
      "text/plain": [
       "<Model iQY1018 at 0x7f74bc025af0>"
      ]
     },
     "execution_count": 3,
     "metadata": {},
     "output_type": "execute_result"
    }
   ],
   "source": [
    "model"
   ]
  },
  {
   "cell_type": "code",
   "execution_count": 4,
   "metadata": {},
   "outputs": [
    {
     "name": "stderr",
     "output_type": "stream",
     "text": [
      "Could not identify an external compartment by name and choosing one with the most boundary reactions. That might be complete nonsense or change suddenly. Consider renaming your compartments using `Model.compartments` to fix this.\n"
     ]
    },
    {
     "name": "stdout",
     "output_type": "stream",
     "text": [
      "EXpd00254 Mg <=>  (-1000.0, 1000.0)\n",
      "EXpd00971 Na+ <=>  (-1000.0, 1000.0)\n",
      "EXpd00205 K+ <=>  (-1000.0, 1000.0)\n",
      "EXpd00034 Zn2+ <=>  (-1000.0, 1000.0)\n",
      "EXpd00009 Phosphate <=>  (-1000.0, 1000.0)\n",
      "EXpd00048 Sulfate <=>  (-1000.0, 1000.0)\n",
      "EXpd00027 D-Glucose <=>  (-10.0, 1000.0)\n",
      "EXpd00001 H2O <=>  (-1000.0, 1000.0)\n",
      "EXpd00013 NH3 <=>  (-1000.0, 1000.0)\n",
      "EXpd10515 Fe+2 <=>  (-1000.0, 1000.0)\n",
      "EXpd00099 Cl- <=>  (-1000.0, 1000.0)\n",
      "EXpd00531 Hg2+ <=>  (-1000.0, 1000.0)\n",
      "EXpd00635 Cbl <=>  (-1000.0, 1000.0)\n",
      "EXpd00058 Cu2+ <=>  (-1000.0, 1000.0)\n",
      "EXpd04097 Pb <=>  (-1000.0, 1000.0)\n",
      "EXpd00149 Co2+ <=>  (-1000.0, 1000.0)\n",
      "EXpd10516 Fe+3 <=>  (-1000.0, 1000.0)\n",
      "EXpd00011 CO2 <=>  (-1000.0, 1000.0)\n",
      "EXpd00007 O2 <=>  (-1000.0, 1000.0)\n",
      "EXpd00063 Ca2+ <=>  (-1000.0, 1000.0)\n",
      "EXpd00030 Mn2+ <=>  (-1000.0, 1000.0)\n",
      "EXpd00068 H+ <=>  (-1000.0, 1000.0)\n"
     ]
    }
   ],
   "source": [
    "# The composition of the model's medium\n",
    "for ri in model.medium.keys():\n",
    "    rxn = model.reactions.get_by_id(ri)\n",
    "    print(rxn.id,rxn.build_reaction_string(use_metabolite_names=True),rxn.bounds)"
   ]
  },
  {
   "cell_type": "code",
   "execution_count": 5,
   "metadata": {},
   "outputs": [
    {
     "name": "stdout",
     "output_type": "stream",
     "text": [
      "0.8109884016567651\n"
     ]
    }
   ],
   "source": [
    "# Calculate the growth rate under aerobic conditions\n",
    "with model:\n",
    "    model.objective = 'biomass0'\n",
    "    v_optimize = model.optimize().objective_value\n",
    "    print(v_optimize)"
   ]
  },
  {
   "cell_type": "code",
   "execution_count": 6,
   "metadata": {},
   "outputs": [
    {
     "name": "stdout",
     "output_type": "stream",
     "text": [
      "0.5402744642697556\n"
     ]
    }
   ],
   "source": [
    "# Calculate the growth rate under anaerobic conditions\n",
    "\n",
    "with model:\n",
    "    model.reactions.get_by_id('EXpd00007').bounds = (0,0) # O2\n",
    "    model.reactions.get_by_id('EXpd00209').bounds = (-1000,1000) # Nitrate\n",
    "    model.objective = 'biomass0'\n",
    "    v_optimize = model.optimize().objective_value\n",
    "    print(v_optimize)"
   ]
  }
 ],
 "metadata": {
  "kernelspec": {
   "display_name": "cplex",
   "language": "python",
   "name": "python3"
  },
  "language_info": {
   "codemirror_mode": {
    "name": "ipython",
    "version": 3
   },
   "file_extension": ".py",
   "mimetype": "text/x-python",
   "name": "python",
   "nbconvert_exporter": "python",
   "pygments_lexer": "ipython3",
   "version": "3.6.13"
  },
  "orig_nbformat": 4
 },
 "nbformat": 4,
 "nbformat_minor": 2
}
