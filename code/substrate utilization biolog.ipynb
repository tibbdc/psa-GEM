{
 "cells": [
  {
   "cell_type": "code",
   "execution_count": 17,
   "metadata": {},
   "outputs": [],
   "source": [
    "import cobra\n",
    "import pandas as pd\n",
    "from cobra.flux_analysis import pfba"
   ]
  },
  {
   "cell_type": "code",
   "execution_count": 18,
   "metadata": {},
   "outputs": [],
   "source": [
    "# Load a model from an SBML file\n",
    "model=cobra.io.read_sbml_model('../model/iQY1018.xml')\n",
    "df = pd.read_excel('../data/biolog_iQY1018.xlsx',index_col='Substance')"
   ]
  },
  {
   "cell_type": "code",
   "execution_count": 20,
   "metadata": {},
   "outputs": [],
   "source": [
    "# substrates utilization\n",
    "model.reactions.get_by_id('EXpd00027').bounds = (0,1000)\n",
    "growth_rate_e0 = []\n",
    "\n",
    "for met in list(df['model_id']):\n",
    "        met = met.strip()\n",
    "        with model:\n",
    "            subm = cobra.Metabolite(met+'_e0')\n",
    "            model.add_metabolites([subm])\n",
    "            sink_rxn = model.add_boundary(subm, type='sink',lb=-10)\n",
    "            model.objective = 'biomass0'\n",
    "            m = model.metabolites.get_by_id(met+'_e0')\n",
    "            try:\n",
    "                fluxes = pfba(model).fluxes\n",
    "            except:\n",
    "                growth_rate_e0.append(0)\n",
    "            else:\n",
    "                growth_rate_e0.append(fluxes['biomass0'])"
   ]
  },
  {
   "cell_type": "code",
   "execution_count": 21,
   "metadata": {},
   "outputs": [
    {
     "name": "stdout",
     "output_type": "stream",
     "text": [
      "accuracy of substrates utilization: 64\n"
     ]
    }
   ],
   "source": [
    "df['iQY1018_rate'] = growth_rate_e0\n",
    "true_met = []\n",
    "for mi in df.index:\n",
    "    if df.loc[mi,'BIOLOG result'] == \"+\" and df.loc[mi,'iQY1018_rate'] > 0:\n",
    "        true_met.append(mi)\n",
    "    if df.loc[mi,'BIOLOG result'] == \"-\" and df.loc[mi,'iQY1018_rate'] == 0:\n",
    "        true_met.append(mi)\n",
    "\n",
    "print('accuracy of substrates utilization:',len(true_met))"
   ]
  }
 ],
 "metadata": {
  "kernelspec": {
   "display_name": "cplex",
   "language": "python",
   "name": "python3"
  },
  "language_info": {
   "codemirror_mode": {
    "name": "ipython",
    "version": 3
   },
   "file_extension": ".py",
   "mimetype": "text/x-python",
   "name": "python",
   "nbconvert_exporter": "python",
   "pygments_lexer": "ipython3",
   "version": "3.6.13"
  },
  "orig_nbformat": 4
 },
 "nbformat": 4,
 "nbformat_minor": 2
}
